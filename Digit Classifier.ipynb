{
 "cells": [
  {
   "cell_type": "code",
   "execution_count": 1,
   "id": "geological-blood",
   "metadata": {},
   "outputs": [],
   "source": [
    "import fastbook\n",
    "fastbook.setup_book()"
   ]
  },
  {
   "cell_type": "code",
   "execution_count": 2,
   "id": "adaptive-disaster",
   "metadata": {},
   "outputs": [],
   "source": [
    "from fastbook import *\n",
    "from fastai.vision.all import *\n",
    "from fastai.vision.widgets import *\n",
    "\n",
    "matplotlib.rc('image', cmap='Greys')"
   ]
  },
  {
   "cell_type": "code",
   "execution_count": 3,
   "id": "characteristic-consciousness",
   "metadata": {
    "scrolled": true
   },
   "outputs": [],
   "source": [
    "path = untar_data(URLs.MNIST)"
   ]
  },
  {
   "cell_type": "markdown",
   "id": "municipal-magazine",
   "metadata": {},
   "source": [
    "Practice of using datablock and dataloader"
   ]
  },
  {
   "cell_type": "code",
   "execution_count": 4,
   "id": "elegant-cherry",
   "metadata": {},
   "outputs": [],
   "source": [
    "mnist = DataBlock(\n",
    "    blocks=(ImageBlock, CategoryBlock),\n",
    "    get_items=get_image_files,\n",
    "    splitter=GrandparentSplitter(train_name='training', valid_name='testing'),\n",
    "    get_y=parent_label)"
   ]
  },
  {
   "cell_type": "code",
   "execution_count": 5,
   "id": "central-internship",
   "metadata": {},
   "outputs": [],
   "source": [
    "#mnist = mnist.new(\n",
    "#    item_tfms=RandomResizedCrop(28*28, min_scale=0.5),\n",
    "#    batch_tfms=aug_transforms())"
   ]
  },
  {
   "cell_type": "code",
   "execution_count": 6,
   "id": "offensive-watershed",
   "metadata": {},
   "outputs": [],
   "source": [
    "mnist = mnist.new(\n",
    "    batch_tfms=aug_transforms())"
   ]
  },
  {
   "cell_type": "code",
   "execution_count": 7,
   "id": "contemporary-recipient",
   "metadata": {},
   "outputs": [],
   "source": [
    "dls = mnist.dataloaders(path, bs=16)"
   ]
  },
  {
   "cell_type": "markdown",
   "id": "informal-ontario",
   "metadata": {},
   "source": [
    "Data is easily loaded using ImageDataLoaders"
   ]
  },
  {
   "cell_type": "code",
   "execution_count": 8,
   "id": "exact-clock",
   "metadata": {},
   "outputs": [],
   "source": [
    "#dls = ImageDataLoaders.from_folder(path, train='training', valid='testing', bs=64)\n",
    "#learn = cnn_learner(dls, resnet18, pretrained=False, metrics=accuracy)"
   ]
  },
  {
   "cell_type": "markdown",
   "id": "distinct-savage",
   "metadata": {},
   "source": [
    "To verify the images and the labels are matched correctly,"
   ]
  },
  {
   "cell_type": "code",
   "execution_count": 9,
   "id": "related-shower",
   "metadata": {},
   "outputs": [],
   "source": [
    "#dls.train.show_batch()"
   ]
  },
  {
   "cell_type": "markdown",
   "id": "damaged-impossible",
   "metadata": {},
   "source": [
    "Assigning a model"
   ]
  },
  {
   "cell_type": "code",
   "execution_count": 10,
   "id": "municipal-yorkshire",
   "metadata": {},
   "outputs": [],
   "source": [
    "learn = cnn_learner(dls, resnet18, pretrained=False, metrics=accuracy)"
   ]
  },
  {
   "cell_type": "markdown",
   "id": "statewide-performer",
   "metadata": {},
   "source": [
    "Find the best learning rate via lr.find()"
   ]
  },
  {
   "cell_type": "code",
   "execution_count": 11,
   "id": "written-affair",
   "metadata": {},
   "outputs": [
    {
     "data": {
      "text/html": [],
      "text/plain": [
       "<IPython.core.display.HTML object>"
      ]
     },
     "metadata": {},
     "output_type": "display_data"
    },
    {
     "data": {
      "image/png": "[encoded data removed]",
      "text/plain": [
       "<Figure size 432x288 with 1 Axes>"
      ]
     },
     "metadata": {
      "needs_background": "light"
     },
     "output_type": "display_data"
    }
   ],
   "source": [
    "lr_min,lr_steep = learn.lr_find()"
   ]
  },
  {
   "cell_type": "code",
   "execution_count": 12,
   "id": "random-rochester",
   "metadata": {},
   "outputs": [
    {
     "name": "stdout",
     "output_type": "stream",
     "text": [
      "Minimum/10: 9.12e-04, steepest point: 2.09e-03\n"
     ]
    }
   ],
   "source": [
    "print(f\"Minimum/10: {lr_min:.2e}, steepest point: {lr_steep:.2e}\")"
   ]
  },
  {
   "cell_type": "markdown",
   "id": "specified-germany",
   "metadata": {},
   "source": [
    "Use the result of lr.find() and start training"
   ]
  },
  {
   "cell_type": "code",
   "execution_count": 13,
   "id": "verified-sigma",
   "metadata": {},
   "outputs": [
    {
     "data": {
      "text/html": [
       "<table border=\"1\" class=\"dataframe\">\n",
       "  <thead>\n",
       "    <tr style=\"text-align: left;\">\n",
       "      <th>epoch</th>\n",
       "      <th>train_loss</th>\n",
       "      <th>valid_loss</th>\n",
       "      <th>accuracy</th>\n",
       "      <th>time</th>\n",
       "    </tr>\n",
       "  </thead>\n",
       "  <tbody>\n",
       "    <tr>\n",
       "      <td>0</td>\n",
       "      <td>0.176215</td>\n",
       "      <td>0.055869</td>\n",
       "      <td>0.982300</td>\n",
       "      <td>01:54</td>\n",
       "    </tr>\n",
       "  </tbody>\n",
       "</table>"
      ],
      "text/plain": [
       "<IPython.core.display.HTML object>"
      ]
     },
     "metadata": {},
     "output_type": "display_data"
    }
   ],
   "source": [
    "learn.fit_one_cycle(1, 2e-3)"
   ]
  },
  {
   "cell_type": "code",
   "execution_count": 14,
   "id": "legendary-smooth",
   "metadata": {},
   "outputs": [
    {
     "data": {
      "text/html": [],
      "text/plain": [
       "<IPython.core.display.HTML object>"
      ]
     },
     "metadata": {},
     "output_type": "display_data"
    },
    {
     "data": {
      "image/png": "[encoded data removed]",
      "text/plain": [
       "<Figure size 432x288 with 1 Axes>"
      ]
     },
     "metadata": {
      "needs_background": "light"
     },
     "output_type": "display_data"
    }
   ],
   "source": [
    "interp = ClassificationInterpretation.from_learner(learn)\n",
    "interp.plot_confusion_matrix()"
   ]
  },
  {
   "cell_type": "code",
   "execution_count": 15,
   "id": "unauthorized-tolerance",
   "metadata": {},
   "outputs": [
    {
     "data": {
      "image/png": "[encoded data removed]",
      "text/plain": [
       "<Figure size 1080x216 with 5 Axes>"
      ]
     },
     "metadata": {
      "needs_background": "light"
     },
     "output_type": "display_data"
    }
   ],
   "source": [
    "interp.plot_top_losses(5, nrows=1)"
   ]
  },
  {
   "cell_type": "code",
   "execution_count": 16,
   "id": "planned-pendant",
   "metadata": {},
   "outputs": [],
   "source": [
    "learn.export()"
   ]
  },
  {
   "cell_type": "code",
   "execution_count": 17,
   "id": "spatial-queensland",
   "metadata": {},
   "outputs": [
    {
     "data": {
      "text/plain": [
       "(#1) [Path('/home/ray/.fastai/data/mnist_png/export.pkl')]"
      ]
     },
     "execution_count": 17,
     "metadata": {},
     "output_type": "execute_result"
    }
   ],
   "source": [
    "path = Path('/home/ray/.fastai/data/mnist_png/')\n",
    "path.ls(file_exts='.pkl')"
   ]
  },
  {
   "cell_type": "code",
   "execution_count": 18,
   "id": "continuing-delta",
   "metadata": {},
   "outputs": [],
   "source": [
    "learn_inf = load_learner(path/'export.pkl')"
   ]
  },
  {
   "cell_type": "code",
   "execution_count": 19,
   "id": "veterinary-mexico",
   "metadata": {
    "scrolled": true
   },
   "outputs": [
    {
     "data": {
      "application/vnd.jupyter.widget-view+json": {
       "model_id": "f01df236b8e1476e9d9580fe5ca82006",
       "version_major": 2,
       "version_minor": 0
      },
      "text/plain": [
       "FileUpload(value={}, description='Upload')"
      ]
     },
     "metadata": {},
     "output_type": "display_data"
    }
   ],
   "source": [
    "uploader = widgets.FileUpload()\n",
    "uploader"
   ]
  },
  {
   "cell_type": "code",
   "execution_count": 26,
   "id": "touched-macedonia",
   "metadata": {},
   "outputs": [],
   "source": [
    "img = PILImage.create(uploader.data[0])"
   ]
  },
  {
   "cell_type": "code",
   "execution_count": 27,
   "id": "animated-coordinator",
   "metadata": {},
   "outputs": [
    {
     "data": {
      "text/html": [],
      "text/plain": [
       "<IPython.core.display.HTML object>"
      ]
     },
     "metadata": {},
     "output_type": "display_data"
    },
    {
     "data": {
      "text/plain": [
       "('5',\n",
       " tensor(5),\n",
       " tensor([0.0254, 0.1597, 0.0658, 0.2295, 0.0076, 0.3306, 0.0340, 0.0466, 0.0752, 0.0258]))"
      ]
     },
     "execution_count": 27,
     "metadata": {},
     "output_type": "execute_result"
    }
   ],
   "source": [
    "learn_inf.predict(img)"
   ]
  },
  {
   "cell_type": "code",
   "execution_count": 28,
   "id": "rational-lebanon",
   "metadata": {},
   "outputs": [
    {
     "data": {
      "text/html": [],
      "text/plain": [
       "<IPython.core.display.HTML object>"
      ]
     },
     "metadata": {},
     "output_type": "display_data"
    },
    {
     "name": "stdout",
     "output_type": "stream",
     "text": [
      "What number is this?: 5.\n",
      "Probability it's a 5: 0.840263\n"
     ]
    }
   ],
   "source": [
    "num,_,probs = learn_inf.predict(img)\n",
    "print(f\"What number is this?: {num}.\")\n",
    "print(f\"Probability it's a {num}: {1-probs[1].item():.6f}\")"
   ]
  }
 ],
 "metadata": {
  "kernelspec": {
   "display_name": "Python 3",
   "language": "python",
   "name": "python3"
  },
  "language_info": {
   "codemirror_mode": {
    "name": "ipython",
    "version": 3
   },
   "file_extension": ".py",
   "mimetype": "text/x-python",
   "name": "python",
   "nbconvert_exporter": "python",
   "pygments_lexer": "ipython3",
   "version": "3.8.6"
  }
 },
 "nbformat": 4,
 "nbformat_minor": 5
}
